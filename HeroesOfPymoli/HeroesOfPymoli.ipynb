{
 "cells": [
  {
   "cell_type": "code",
   "execution_count": 73,
   "metadata": {
    "collapsed": true
   },
   "outputs": [],
   "source": [
    "import pandas as pd\n",
    "import json\n",
    "import os\n"
   ]
  },
  {
   "cell_type": "code",
   "execution_count": 74,
   "metadata": {
    "collapsed": true
   },
   "outputs": [],
   "source": [
    "filename = 'purchase_data2.json'\n",
    "\n",
    "with open(filename, 'r') as f:\n",
    "        datastore = json.load(f)\n"
   ]
  },
  {
   "cell_type": "code",
   "execution_count": 75,
   "metadata": {},
   "outputs": [
    {
     "data": {
      "text/html": [
       "<div>\n",
       "<style>\n",
       "    .dataframe thead tr:only-child th {\n",
       "        text-align: right;\n",
       "    }\n",
       "\n",
       "    .dataframe thead th {\n",
       "        text-align: left;\n",
       "    }\n",
       "\n",
       "    .dataframe tbody tr th {\n",
       "        vertical-align: top;\n",
       "    }\n",
       "</style>\n",
       "<table border=\"1\" class=\"dataframe\">\n",
       "  <thead>\n",
       "    <tr style=\"text-align: right;\">\n",
       "      <th></th>\n",
       "      <th>Age</th>\n",
       "      <th>Gender</th>\n",
       "      <th>Item ID</th>\n",
       "      <th>Item Name</th>\n",
       "      <th>Price</th>\n",
       "      <th>SN</th>\n",
       "    </tr>\n",
       "  </thead>\n",
       "  <tbody>\n",
       "    <tr>\n",
       "      <th>0</th>\n",
       "      <td>20</td>\n",
       "      <td>Male</td>\n",
       "      <td>93</td>\n",
       "      <td>Apocalyptic Battlescythe</td>\n",
       "      <td>4.49</td>\n",
       "      <td>Iloni35</td>\n",
       "    </tr>\n",
       "    <tr>\n",
       "      <th>1</th>\n",
       "      <td>21</td>\n",
       "      <td>Male</td>\n",
       "      <td>12</td>\n",
       "      <td>Dawne</td>\n",
       "      <td>3.36</td>\n",
       "      <td>Aidaira26</td>\n",
       "    </tr>\n",
       "    <tr>\n",
       "      <th>2</th>\n",
       "      <td>17</td>\n",
       "      <td>Male</td>\n",
       "      <td>5</td>\n",
       "      <td>Putrid Fan</td>\n",
       "      <td>2.63</td>\n",
       "      <td>Irim47</td>\n",
       "    </tr>\n",
       "    <tr>\n",
       "      <th>3</th>\n",
       "      <td>17</td>\n",
       "      <td>Male</td>\n",
       "      <td>123</td>\n",
       "      <td>Twilight's Carver</td>\n",
       "      <td>2.55</td>\n",
       "      <td>Irith83</td>\n",
       "    </tr>\n",
       "    <tr>\n",
       "      <th>4</th>\n",
       "      <td>22</td>\n",
       "      <td>Male</td>\n",
       "      <td>154</td>\n",
       "      <td>Feral Katana</td>\n",
       "      <td>4.11</td>\n",
       "      <td>Philodil43</td>\n",
       "    </tr>\n",
       "  </tbody>\n",
       "</table>\n",
       "</div>"
      ],
      "text/plain": [
       "   Age Gender  Item ID                 Item Name  Price          SN\n",
       "0   20   Male       93  Apocalyptic Battlescythe   4.49     Iloni35\n",
       "1   21   Male       12                     Dawne   3.36   Aidaira26\n",
       "2   17   Male        5                Putrid Fan   2.63      Irim47\n",
       "3   17   Male      123         Twilight's Carver   2.55     Irith83\n",
       "4   22   Male      154              Feral Katana   4.11  Philodil43"
      ]
     },
     "execution_count": 75,
     "metadata": {},
     "output_type": "execute_result"
    }
   ],
   "source": [
    "player_df = pd.DataFrame(datastore, columns=['Age', 'Gender','Item ID','Item Name','Price','SN'])\n",
    "player_df.head()\n"
   ]
  },
  {
   "cell_type": "code",
   "execution_count": 76,
   "metadata": {},
   "outputs": [
    {
     "name": "stdout",
     "output_type": "stream",
     "text": [
      "Total Player:  78\n"
     ]
    }
   ],
   "source": [
    "#Total Number of Players\n",
    "total_player = len(player_df)\n",
    "print(\"Total Player: \", total_player)"
   ]
  },
  {
   "cell_type": "code",
   "execution_count": 77,
   "metadata": {},
   "outputs": [
    {
     "data": {
      "text/plain": [
       "64"
      ]
     },
     "execution_count": 77,
     "metadata": {},
     "output_type": "execute_result"
    }
   ],
   "source": [
    "# Purchasing Analysis Total\n",
    "\n",
    "# Number of Unique Items\n",
    "unique_item_count = player_df['Item ID'].value_counts().count()\n",
    "unique_item_count"
   ]
  },
  {
   "cell_type": "code",
   "execution_count": 78,
   "metadata": {},
   "outputs": [
    {
     "data": {
      "text/plain": [
       "2.9243589743589733"
      ]
     },
     "execution_count": 78,
     "metadata": {},
     "output_type": "execute_result"
    }
   ],
   "source": [
    "# Average Purchase Price\n",
    "average_purchase_price = player_df['Price'].mean()\n",
    "average_purchase_price"
   ]
  },
  {
   "cell_type": "code",
   "execution_count": 79,
   "metadata": {},
   "outputs": [
    {
     "data": {
      "text/plain": [
       "78"
      ]
     },
     "execution_count": 79,
     "metadata": {},
     "output_type": "execute_result"
    }
   ],
   "source": [
    "# Total Number of Purchases\n",
    "total_purchase = player_df['Price'].count()\n",
    "total_purchase"
   ]
  },
  {
   "cell_type": "code",
   "execution_count": 80,
   "metadata": {},
   "outputs": [
    {
     "data": {
      "text/plain": [
       "228.0999999999999"
      ]
     },
     "execution_count": 80,
     "metadata": {},
     "output_type": "execute_result"
    }
   ],
   "source": [
    "# Total Revenue\n",
    "total_revenue = player_df['Price'].sum()\n",
    "total_revenue"
   ]
  },
  {
   "cell_type": "code",
   "execution_count": 81,
   "metadata": {},
   "outputs": [
    {
     "name": "stdout",
     "output_type": "stream",
     "text": [
      "Purchasing Analysis (Total)\n"
     ]
    },
    {
     "data": {
      "text/html": [
       "<div>\n",
       "<style>\n",
       "    .dataframe thead tr:only-child th {\n",
       "        text-align: right;\n",
       "    }\n",
       "\n",
       "    .dataframe thead th {\n",
       "        text-align: left;\n",
       "    }\n",
       "\n",
       "    .dataframe tbody tr th {\n",
       "        vertical-align: top;\n",
       "    }\n",
       "</style>\n",
       "<table border=\"1\" class=\"dataframe\">\n",
       "  <thead>\n",
       "    <tr style=\"text-align: right;\">\n",
       "      <th></th>\n",
       "      <th>Average Purchase Price</th>\n",
       "      <th>Number of Unique Items</th>\n",
       "      <th>Total Number of Purchases</th>\n",
       "      <th>Total Revenue</th>\n",
       "    </tr>\n",
       "  </thead>\n",
       "  <tbody>\n",
       "    <tr>\n",
       "      <th>0</th>\n",
       "      <td>$2.92</td>\n",
       "      <td>64</td>\n",
       "      <td>78</td>\n",
       "      <td>$228.10</td>\n",
       "    </tr>\n",
       "  </tbody>\n",
       "</table>\n",
       "</div>"
      ],
      "text/plain": [
       "  Average Purchase Price  Number of Unique Items  Total Number of Purchases  \\\n",
       "0                  $2.92                      64                         78   \n",
       "\n",
       "  Total Revenue  \n",
       "0       $228.10  "
      ]
     },
     "execution_count": 81,
     "metadata": {},
     "output_type": "execute_result"
    }
   ],
   "source": [
    "print(\"Purchasing Analysis (Total)\")\n",
    "purchase_analysis_total_df = pd.DataFrame({\"Number of Unique Items\":[unique_item_count],\n",
    "                            \"Average Purchase Price\":[\"${:.2f}\".format(average_purchase_price)],\n",
    "                            \"Total Number of Purchases\":[total_purchase],\n",
    "                            \"Total Revenue\":[\"${:.2f}\".format(total_revenue)]\n",
    "                            \n",
    "                     })\n",
    "purchase_analysis_total_df"
   ]
  },
  {
   "cell_type": "code",
   "execution_count": 82,
   "metadata": {},
   "outputs": [
    {
     "data": {
      "text/plain": [
       "64"
      ]
     },
     "execution_count": 82,
     "metadata": {},
     "output_type": "execute_result"
    }
   ],
   "source": [
    "# Gender Demographics\n",
    "\n",
    "# Percentage and Count of Male Players\n",
    "\n",
    "number_male_players = player_df['Gender'].value_counts()['Male']\n",
    "number_male_players"
   ]
  },
  {
   "cell_type": "code",
   "execution_count": 83,
   "metadata": {},
   "outputs": [
    {
     "data": {
      "text/plain": [
       "82.051282051282044"
      ]
     },
     "execution_count": 83,
     "metadata": {},
     "output_type": "execute_result"
    }
   ],
   "source": [
    "percent_male_players = number_male_players/total_player*100\n",
    "percent_male_players"
   ]
  },
  {
   "cell_type": "code",
   "execution_count": 84,
   "metadata": {},
   "outputs": [
    {
     "data": {
      "text/plain": [
       "13"
      ]
     },
     "execution_count": 84,
     "metadata": {},
     "output_type": "execute_result"
    }
   ],
   "source": [
    "# Percentage and Count of Female Players\n",
    "number_female_players = player_df['Gender'].value_counts()['Female']\n",
    "number_female_players"
   ]
  },
  {
   "cell_type": "code",
   "execution_count": 85,
   "metadata": {},
   "outputs": [
    {
     "data": {
      "text/plain": [
       "16.666666666666664"
      ]
     },
     "execution_count": 85,
     "metadata": {},
     "output_type": "execute_result"
    }
   ],
   "source": [
    "percent_female_players = number_female_players/total_player*100\n",
    "percent_female_players"
   ]
  },
  {
   "cell_type": "code",
   "execution_count": 86,
   "metadata": {},
   "outputs": [
    {
     "data": {
      "text/plain": [
       "1"
      ]
     },
     "execution_count": 86,
     "metadata": {},
     "output_type": "execute_result"
    }
   ],
   "source": [
    "# Percentage and Count of Other / Non-Disclosed\n",
    "\n",
    "other_player = total_player - (number_male_players + number_female_players)\n",
    "other_player"
   ]
  },
  {
   "cell_type": "code",
   "execution_count": 87,
   "metadata": {},
   "outputs": [
    {
     "data": {
      "text/plain": [
       "1.2820512820512819"
      ]
     },
     "execution_count": 87,
     "metadata": {},
     "output_type": "execute_result"
    }
   ],
   "source": [
    "percent_other_players = other_player/total_player*100\n",
    "percent_other_players"
   ]
  },
  {
   "cell_type": "code",
   "execution_count": 88,
   "metadata": {},
   "outputs": [
    {
     "data": {
      "text/html": [
       "<div>\n",
       "<style>\n",
       "    .dataframe thead tr:only-child th {\n",
       "        text-align: right;\n",
       "    }\n",
       "\n",
       "    .dataframe thead th {\n",
       "        text-align: left;\n",
       "    }\n",
       "\n",
       "    .dataframe tbody tr th {\n",
       "        vertical-align: top;\n",
       "    }\n",
       "</style>\n",
       "<table border=\"1\" class=\"dataframe\">\n",
       "  <thead>\n",
       "    <tr style=\"text-align: right;\">\n",
       "      <th></th>\n",
       "      <th>Percentage of Players</th>\n",
       "      <th>Total Count</th>\n",
       "    </tr>\n",
       "  </thead>\n",
       "  <tbody>\n",
       "    <tr>\n",
       "      <th>Female</th>\n",
       "      <td>16.666667</td>\n",
       "      <td>13.0</td>\n",
       "    </tr>\n",
       "    <tr>\n",
       "      <th>Male</th>\n",
       "      <td>82.051282</td>\n",
       "      <td>64.0</td>\n",
       "    </tr>\n",
       "    <tr>\n",
       "      <th>Other/None-Disclosed</th>\n",
       "      <td>1.282051</td>\n",
       "      <td>1.0</td>\n",
       "    </tr>\n",
       "  </tbody>\n",
       "</table>\n",
       "</div>"
      ],
      "text/plain": [
       "                      Percentage of Players  Total Count\n",
       "Female                            16.666667         13.0\n",
       "Male                              82.051282         64.0\n",
       "Other/None-Disclosed               1.282051          1.0"
      ]
     },
     "execution_count": 88,
     "metadata": {},
     "output_type": "execute_result"
    }
   ],
   "source": [
    "genderdemograph={}\n",
    "\n",
    "genderdemograph['Female']=[percent_female_players,number_female_players]\n",
    "genderdemograph['Male']=[percent_male_players,number_male_players]\n",
    "genderdemograph['Other/None-Disclosed']=[percent_other_players,other_player]\n",
    "\n",
    "gender_demograph_df = pd.DataFrame(genderdemograph)\n",
    "gender_demograph_new_df = gender_demograph_df.transpose()\n",
    "gender_demograph_new_df.columns=['Percentage of Players', 'Total Count']\n",
    "gender_demograph_new_df"
   ]
  },
  {
   "cell_type": "code",
   "execution_count": 89,
   "metadata": {},
   "outputs": [
    {
     "data": {
      "text/plain": [
       "count    64.000000\n",
       "mean      2.884375\n",
       "std       1.133868\n",
       "min       1.080000\n",
       "25%       1.917500\n",
       "50%       2.740000\n",
       "75%       4.057500\n",
       "max       4.810000\n",
       "Name: Male, dtype: float64"
      ]
     },
     "execution_count": 89,
     "metadata": {},
     "output_type": "execute_result"
    }
   ],
   "source": [
    "group_by_gender =player_df.groupby(['Gender'])\n",
    "group_by_gender_df = group_by_gender['Price'].describe()\n",
    "\n",
    "gender_group_df = group_by_gender_df.iloc[1,:]\n",
    "gender_group_df\n"
   ]
  },
  {
   "cell_type": "code",
   "execution_count": 90,
   "metadata": {},
   "outputs": [
    {
     "name": "stdout",
     "output_type": "stream",
     "text": [
      "64.0\n",
      "2.884375\n"
     ]
    }
   ],
   "source": [
    "# Purchasing Analysis (Gender)\n",
    "\n",
    "# Male players\n",
    "\n",
    "# Purchase Count and Average Purchase Price\n",
    "male_purchase_count = gender_group_df['count']\n",
    "average_male_purchase_price = gender_group_df['mean']\n",
    "print(male_purchase_count)\n",
    "print(average_male_purchase_price)"
   ]
  },
  {
   "cell_type": "code",
   "execution_count": 91,
   "metadata": {},
   "outputs": [
    {
     "data": {
      "text/plain": [
       "184.59999999999997"
      ]
     },
     "execution_count": 91,
     "metadata": {},
     "output_type": "execute_result"
    }
   ],
   "source": [
    "# Total Purchase Value\n",
    "total_male_purchase = player_df.loc[player_df['Gender']=='Male']['Price'].sum()\n",
    "total_male_purchase"
   ]
  },
  {
   "cell_type": "code",
   "execution_count": 92,
   "metadata": {},
   "outputs": [
    {
     "data": {
      "text/plain": [
       "162.80554040681091"
      ]
     },
     "execution_count": 92,
     "metadata": {},
     "output_type": "execute_result"
    }
   ],
   "source": [
    "# Normalized Totals\n",
    "normalized_male_total = total_male_purchase/gender_group_df['std']\n",
    "normalized_male_total"
   ]
  },
  {
   "cell_type": "code",
   "execution_count": 93,
   "metadata": {},
   "outputs": [
    {
     "data": {
      "text/plain": [
       "count    13.000000\n",
       "mean      3.183077\n",
       "std       1.174815\n",
       "min       1.020000\n",
       "25%       2.260000\n",
       "50%       3.640000\n",
       "75%       4.120000\n",
       "max       4.710000\n",
       "Name: Female, dtype: float64"
      ]
     },
     "execution_count": 93,
     "metadata": {},
     "output_type": "execute_result"
    }
   ],
   "source": [
    "# Female players\n",
    "\n",
    "gender_group_df = group_by_gender_df.iloc[0,:]\n",
    "gender_group_df"
   ]
  },
  {
   "cell_type": "code",
   "execution_count": 94,
   "metadata": {},
   "outputs": [
    {
     "name": "stdout",
     "output_type": "stream",
     "text": [
      "13.0\n",
      "3.18307692308\n"
     ]
    }
   ],
   "source": [
    "\n",
    "# Purchase Count and Average Purchase Price\n",
    "female_purchase_count = gender_group_df['count']\n",
    "average_female_purchase_price = gender_group_df['mean']\n",
    "print(female_purchase_count)\n",
    "print(average_female_purchase_price)"
   ]
  },
  {
   "cell_type": "code",
   "execution_count": 95,
   "metadata": {},
   "outputs": [
    {
     "data": {
      "text/plain": [
       "41.38"
      ]
     },
     "execution_count": 95,
     "metadata": {},
     "output_type": "execute_result"
    }
   ],
   "source": [
    "# Total Purchase Value\n",
    "total_female_purchase = player_df.loc[player_df['Gender']=='Female']['Price'].sum()\n",
    "\n",
    "total_female_purchase"
   ]
  },
  {
   "cell_type": "code",
   "execution_count": 96,
   "metadata": {},
   "outputs": [
    {
     "data": {
      "text/plain": [
       "35.222573855880349"
      ]
     },
     "execution_count": 96,
     "metadata": {},
     "output_type": "execute_result"
    }
   ],
   "source": [
    "# Normalized Totals\n",
    "normalized_female_total = total_female_purchase/gender_group_df['std']\n",
    "normalized_female_total"
   ]
  },
  {
   "cell_type": "code",
   "execution_count": 97,
   "metadata": {},
   "outputs": [
    {
     "data": {
      "text/plain": [
       "count    1.00\n",
       "mean     2.12\n",
       "std       NaN\n",
       "min      2.12\n",
       "25%      2.12\n",
       "50%      2.12\n",
       "75%      2.12\n",
       "max      2.12\n",
       "Name: Other / Non-Disclosed, dtype: float64"
      ]
     },
     "execution_count": 97,
     "metadata": {},
     "output_type": "execute_result"
    }
   ],
   "source": [
    "# Other None-Disclosed Players\n",
    "other_group_df = group_by_gender_df.iloc[2,:]\n",
    "other_group_df"
   ]
  },
  {
   "cell_type": "code",
   "execution_count": 98,
   "metadata": {},
   "outputs": [
    {
     "name": "stdout",
     "output_type": "stream",
     "text": [
      "1.0\n",
      "2.12\n"
     ]
    }
   ],
   "source": [
    "# Purchase Count and Average Purchase Price\n",
    "other_purchase_count = other_group_df['count']\n",
    "average_other_purchase_price = other_group_df['mean']\n",
    "print(other_purchase_count)\n",
    "print(average_other_purchase_price)"
   ]
  },
  {
   "cell_type": "code",
   "execution_count": 99,
   "metadata": {},
   "outputs": [
    {
     "data": {
      "text/plain": [
       "2.12"
      ]
     },
     "execution_count": 99,
     "metadata": {},
     "output_type": "execute_result"
    }
   ],
   "source": [
    "#Total purchase\n",
    "total_other_purchase = player_df.loc[player_df['Gender']=='Other / Non-Disclosed']['Price'].sum()\n",
    "total_other_purchase"
   ]
  },
  {
   "cell_type": "code",
   "execution_count": 100,
   "metadata": {},
   "outputs": [
    {
     "data": {
      "text/plain": [
       "nan"
      ]
     },
     "execution_count": 100,
     "metadata": {},
     "output_type": "execute_result"
    }
   ],
   "source": [
    "# Normalized Total\n",
    "normalized_other_total = total_other_purchase/other_group_df['std']\n",
    "normalized_other_total"
   ]
  },
  {
   "cell_type": "code",
   "execution_count": 101,
   "metadata": {},
   "outputs": [
    {
     "data": {
      "text/html": [
       "<div>\n",
       "<style>\n",
       "    .dataframe thead tr:only-child th {\n",
       "        text-align: right;\n",
       "    }\n",
       "\n",
       "    .dataframe thead th {\n",
       "        text-align: left;\n",
       "    }\n",
       "\n",
       "    .dataframe tbody tr th {\n",
       "        vertical-align: top;\n",
       "    }\n",
       "</style>\n",
       "<table border=\"1\" class=\"dataframe\">\n",
       "  <thead>\n",
       "    <tr style=\"text-align: right;\">\n",
       "      <th></th>\n",
       "      <th>Purchase Count</th>\n",
       "      <th>Purchase Count</th>\n",
       "      <th>Total Purchase Value</th>\n",
       "      <th>Normalized Totals</th>\n",
       "    </tr>\n",
       "  </thead>\n",
       "  <tbody>\n",
       "    <tr>\n",
       "      <th>Female</th>\n",
       "      <td>13.0</td>\n",
       "      <td>3.183077</td>\n",
       "      <td>41.38</td>\n",
       "      <td>35.222574</td>\n",
       "    </tr>\n",
       "    <tr>\n",
       "      <th>Male</th>\n",
       "      <td>64.0</td>\n",
       "      <td>2.884375</td>\n",
       "      <td>184.60</td>\n",
       "      <td>162.805540</td>\n",
       "    </tr>\n",
       "    <tr>\n",
       "      <th>Other/None-Disclosed</th>\n",
       "      <td>1.0</td>\n",
       "      <td>2.120000</td>\n",
       "      <td>2.12</td>\n",
       "      <td>NaN</td>\n",
       "    </tr>\n",
       "  </tbody>\n",
       "</table>\n",
       "</div>"
      ],
      "text/plain": [
       "                      Purchase Count  Purchase Count  Total Purchase Value  \\\n",
       "Female                          13.0        3.183077                 41.38   \n",
       "Male                            64.0        2.884375                184.60   \n",
       "Other/None-Disclosed             1.0        2.120000                  2.12   \n",
       "\n",
       "                      Normalized Totals  \n",
       "Female                        35.222574  \n",
       "Male                         162.805540  \n",
       "Other/None-Disclosed                NaN  "
      ]
     },
     "execution_count": 101,
     "metadata": {},
     "output_type": "execute_result"
    }
   ],
   "source": [
    "purchase_gender={}\n",
    "\n",
    "purchase_gender['Female']=[female_purchase_count,average_female_purchase_price,total_female_purchase,normalized_female_total]\n",
    "purchase_gender['Male']=[male_purchase_count,average_male_purchase_price,total_male_purchase,normalized_male_total]\n",
    "purchase_gender['Other/None-Disclosed']=[other_purchase_count,average_other_purchase_price,total_other_purchase,normalized_other_total]\n",
    "\n",
    "purchase_gender_df = pd.DataFrame(purchase_gender)\n",
    "purchase_gender_df = purchase_gender_df.transpose()\n",
    "purchase_gender_df.columns=['Purchase Count', 'Purchase Count','Total Purchase Value','Normalized Totals']\n",
    "purchase_gender_df"
   ]
  },
  {
   "cell_type": "code",
   "execution_count": 102,
   "metadata": {},
   "outputs": [
    {
     "name": "stdout",
     "output_type": "stream",
     "text": [
      "40\n",
      "7\n"
     ]
    }
   ],
   "source": [
    "#  Age Demographics\n",
    "\n",
    "# age groups are broken into bins of 4 years \n",
    "\n",
    "max_age = player_df['Age'].max()\n",
    "min_age = player_df['Age'].min()\n",
    "\n",
    "print(max_age)\n",
    "print(min_age)"
   ]
  },
  {
   "cell_type": "markdown",
   "metadata": {},
   "source": [
    "bins = [5, 9.5, 14.5,19.5,24.5,29,5,34.5,39.5,44.5]\n",
    "group_labels = ['<10', '10-14', '15-19','20-24','25-29','30-34','35-39','40-44']\n",
    "\n",
    "player_df['Age Group'] = pd.cut(player_df['Age'],bins,labels=group_labels)\n",
    "\n",
    "#by_age_group1 = player_df.sort_values([\"Age Group\"])\n",
    "by_age_group1=player_df.groupby(['Age Group'])\n",
    "by_age_group1.describe()"
   ]
  },
  {
   "cell_type": "code",
   "execution_count": 146,
   "metadata": {},
   "outputs": [],
   "source": [
    "bins = [5, 9.5, 14.5,19.5,24.5,29.5,34.5,39.5,44.5] \n",
    "group_labels = [\"<10\", \"10-14\", \"15-19\",\"20-24\",\"25-29\",\"30-34\",\"35-39\",\"40-44\"]\n",
    "player_df['Age Group'] = pd.cut(player_df['Age'],bins,labels=group_labels)\n",
    "#by_age_group1 = player_df.sort_values([\"Age Group\"])\n",
    "by_age_group1=player_df.groupby(['Age Group']) \n",
    "by_age_group_describe = by_age_group1.describe()\n"
   ]
  },
  {
   "cell_type": "code",
   "execution_count": 149,
   "metadata": {},
   "outputs": [
    {
     "data": {
      "text/html": [
       "<div>\n",
       "<style>\n",
       "    .dataframe thead tr:only-child th {\n",
       "        text-align: right;\n",
       "    }\n",
       "\n",
       "    .dataframe thead th {\n",
       "        text-align: left;\n",
       "    }\n",
       "\n",
       "    .dataframe tbody tr th {\n",
       "        vertical-align: top;\n",
       "    }\n",
       "</style>\n",
       "<table border=\"1\" class=\"dataframe\">\n",
       "  <thead>\n",
       "    <tr style=\"text-align: right;\">\n",
       "      <th></th>\n",
       "      <th>Age Group</th>\n",
       "      <th>Purchase Count</th>\n",
       "      <th>Average Purchase Price</th>\n",
       "      <th>Total Purchase Value</th>\n",
       "      <th>Normalized Totals</th>\n",
       "    </tr>\n",
       "  </thead>\n",
       "  <tbody>\n",
       "    <tr>\n",
       "      <th>0</th>\n",
       "      <td>&lt;10</td>\n",
       "      <td>5.0</td>\n",
       "      <td>2.76</td>\n",
       "      <td>13.82</td>\n",
       "      <td>8.766470</td>\n",
       "    </tr>\n",
       "    <tr>\n",
       "      <th>1</th>\n",
       "      <td>10-14</td>\n",
       "      <td>3.0</td>\n",
       "      <td>2.99</td>\n",
       "      <td>8.96</td>\n",
       "      <td>10.358324</td>\n",
       "    </tr>\n",
       "    <tr>\n",
       "      <th>2</th>\n",
       "      <td>15-19</td>\n",
       "      <td>11.0</td>\n",
       "      <td>2.76</td>\n",
       "      <td>30.41</td>\n",
       "      <td>31.935468</td>\n",
       "    </tr>\n",
       "    <tr>\n",
       "      <th>3</th>\n",
       "      <td>20-24</td>\n",
       "      <td>36.0</td>\n",
       "      <td>3.02</td>\n",
       "      <td>108.89</td>\n",
       "      <td>98.698281</td>\n",
       "    </tr>\n",
       "    <tr>\n",
       "      <th>4</th>\n",
       "      <td>25-29</td>\n",
       "      <td>9.0</td>\n",
       "      <td>2.90</td>\n",
       "      <td>26.11</td>\n",
       "      <td>19.545794</td>\n",
       "    </tr>\n",
       "    <tr>\n",
       "      <th>5</th>\n",
       "      <td>30-34</td>\n",
       "      <td>7.0</td>\n",
       "      <td>1.98</td>\n",
       "      <td>13.89</td>\n",
       "      <td>17.901180</td>\n",
       "    </tr>\n",
       "    <tr>\n",
       "      <th>6</th>\n",
       "      <td>35-39</td>\n",
       "      <td>6.0</td>\n",
       "      <td>3.56</td>\n",
       "      <td>21.37</td>\n",
       "      <td>19.851675</td>\n",
       "    </tr>\n",
       "    <tr>\n",
       "      <th>7</th>\n",
       "      <td>40-44</td>\n",
       "      <td>1.0</td>\n",
       "      <td>4.65</td>\n",
       "      <td>4.65</td>\n",
       "      <td>NaN</td>\n",
       "    </tr>\n",
       "  </tbody>\n",
       "</table>\n",
       "</div>"
      ],
      "text/plain": [
       "  Age Group  Purchase Count Average Purchase Price  Total Purchase Value  \\\n",
       "0       <10             5.0                   2.76                 13.82   \n",
       "1     10-14             3.0                   2.99                  8.96   \n",
       "2     15-19            11.0                   2.76                 30.41   \n",
       "3     20-24            36.0                   3.02                108.89   \n",
       "4     25-29             9.0                   2.90                 26.11   \n",
       "5     30-34             7.0                   1.98                 13.89   \n",
       "6     35-39             6.0                   3.56                 21.37   \n",
       "7     40-44             1.0                   4.65                  4.65   \n",
       "\n",
       "   Normalized Totals  \n",
       "0           8.766470  \n",
       "1          10.358324  \n",
       "2          31.935468  \n",
       "3          98.698281  \n",
       "4          19.545794  \n",
       "5          17.901180  \n",
       "6          19.851675  \n",
       "7                NaN  "
      ]
     },
     "execution_count": 149,
     "metadata": {},
     "output_type": "execute_result"
    }
   ],
   "source": [
    "by_age_group_df = by_age_group_describe['Price']\n",
    "by_age_group_df= by_age_group_df.iloc[:,[0,1,2]]\n",
    "by_age_group_df['Total Purchase Value'] = by_age_group_df['count']*by_age_group_df['mean']\n",
    "by_age_group_df['Normalized Totals']=by_age_group_df['Total Purchase Value']/by_age_group_df['std']\n",
    "by_age_group_df=by_age_group_df.rename(columns={'count':'Purchase Count','mean':'Average Purchase Price'})\n",
    "by_age_group_df_summary=by_age_group_df.drop(['std'],axis=1)\n",
    "by_age_group_df_summary['Average Purchase Price']=by_age_group_df_summary['Average Purchase Price'].map(\"{:.2f}\".format)\n",
    "by_age_group_df_summary['Normalized Totals']=by_age_group_df_summary['Normalized Totals'].map(\"{:.2f}\".format)\n",
    "by_age_group_df_summary.reset_index()\n"
   ]
  },
  {
   "cell_type": "code",
   "execution_count": 104,
   "metadata": {},
   "outputs": [
    {
     "data": {
      "text/html": [
       "<div>\n",
       "<style>\n",
       "    .dataframe thead tr:only-child th {\n",
       "        text-align: right;\n",
       "    }\n",
       "\n",
       "    .dataframe thead th {\n",
       "        text-align: left;\n",
       "    }\n",
       "\n",
       "    .dataframe tbody tr th {\n",
       "        vertical-align: top;\n",
       "    }\n",
       "</style>\n",
       "<table border=\"1\" class=\"dataframe\">\n",
       "  <thead>\n",
       "    <tr style=\"text-align: right;\">\n",
       "      <th></th>\n",
       "      <th>SN</th>\n",
       "      <th>Price</th>\n",
       "      <th>Item ID</th>\n",
       "    </tr>\n",
       "  </thead>\n",
       "  <tbody>\n",
       "    <tr>\n",
       "      <th>63</th>\n",
       "      <td>Sundaky74</td>\n",
       "      <td>7.41</td>\n",
       "      <td>2</td>\n",
       "    </tr>\n",
       "    <tr>\n",
       "      <th>4</th>\n",
       "      <td>Aidaira26</td>\n",
       "      <td>5.13</td>\n",
       "      <td>2</td>\n",
       "    </tr>\n",
       "    <tr>\n",
       "      <th>23</th>\n",
       "      <td>Eusty71</td>\n",
       "      <td>4.81</td>\n",
       "      <td>1</td>\n",
       "    </tr>\n",
       "    <tr>\n",
       "      <th>16</th>\n",
       "      <td>Chanirra64</td>\n",
       "      <td>4.78</td>\n",
       "      <td>1</td>\n",
       "    </tr>\n",
       "    <tr>\n",
       "      <th>8</th>\n",
       "      <td>Alarap40</td>\n",
       "      <td>4.71</td>\n",
       "      <td>1</td>\n",
       "    </tr>\n",
       "  </tbody>\n",
       "</table>\n",
       "</div>"
      ],
      "text/plain": [
       "            SN  Price  Item ID\n",
       "63   Sundaky74   7.41        2\n",
       "4    Aidaira26   5.13        2\n",
       "23     Eusty71   4.81        1\n",
       "16  Chanirra64   4.78        1\n",
       "8     Alarap40   4.71        1"
      ]
     },
     "execution_count": 104,
     "metadata": {},
     "output_type": "execute_result"
    }
   ],
   "source": [
    "# Top Spenders\n",
    "\n",
    "player_group_by_SN_df = player_df.groupby(['SN'],as_index=False)['Price'].sum()\n",
    "player_group_by_SN_df_2=player_df.groupby(['SN'],as_index=False)['Item ID'].count()\n",
    "\n",
    "group_by_SN_df = pd.merge(player_group_by_SN_df,player_group_by_SN_df_2, on='SN')\n",
    "group_by_SN_df\n",
    "player_top_5_spender = group_by_SN_df.sort_values(['Price'], ascending=False).head(5)\n",
    "player_top_5_spender\n"
   ]
  },
  {
   "cell_type": "code",
   "execution_count": null,
   "metadata": {
    "collapsed": true
   },
   "outputs": [],
   "source": []
  },
  {
   "cell_type": "code",
   "execution_count": 105,
   "metadata": {},
   "outputs": [
    {
     "name": "stdout",
     "output_type": "stream",
     "text": [
      "Top 5 Spenders\n"
     ]
    },
    {
     "data": {
      "text/html": [
       "<div>\n",
       "<style>\n",
       "    .dataframe thead tr:only-child th {\n",
       "        text-align: right;\n",
       "    }\n",
       "\n",
       "    .dataframe thead th {\n",
       "        text-align: left;\n",
       "    }\n",
       "\n",
       "    .dataframe tbody tr th {\n",
       "        vertical-align: top;\n",
       "    }\n",
       "</style>\n",
       "<table border=\"1\" class=\"dataframe\">\n",
       "  <thead>\n",
       "    <tr style=\"text-align: right;\">\n",
       "      <th></th>\n",
       "      <th>SN</th>\n",
       "      <th>Price</th>\n",
       "      <th>Item ID</th>\n",
       "      <th>Average Purchase Price</th>\n",
       "    </tr>\n",
       "  </thead>\n",
       "  <tbody>\n",
       "    <tr>\n",
       "      <th>63</th>\n",
       "      <td>Sundaky74</td>\n",
       "      <td>7.41</td>\n",
       "      <td>2</td>\n",
       "      <td>3.705</td>\n",
       "    </tr>\n",
       "    <tr>\n",
       "      <th>4</th>\n",
       "      <td>Aidaira26</td>\n",
       "      <td>5.13</td>\n",
       "      <td>2</td>\n",
       "      <td>2.565</td>\n",
       "    </tr>\n",
       "    <tr>\n",
       "      <th>23</th>\n",
       "      <td>Eusty71</td>\n",
       "      <td>4.81</td>\n",
       "      <td>1</td>\n",
       "      <td>4.810</td>\n",
       "    </tr>\n",
       "    <tr>\n",
       "      <th>16</th>\n",
       "      <td>Chanirra64</td>\n",
       "      <td>4.78</td>\n",
       "      <td>1</td>\n",
       "      <td>4.780</td>\n",
       "    </tr>\n",
       "    <tr>\n",
       "      <th>8</th>\n",
       "      <td>Alarap40</td>\n",
       "      <td>4.71</td>\n",
       "      <td>1</td>\n",
       "      <td>4.710</td>\n",
       "    </tr>\n",
       "  </tbody>\n",
       "</table>\n",
       "</div>"
      ],
      "text/plain": [
       "            SN  Price  Item ID  Average Purchase Price\n",
       "63   Sundaky74   7.41        2                   3.705\n",
       "4    Aidaira26   5.13        2                   2.565\n",
       "23     Eusty71   4.81        1                   4.810\n",
       "16  Chanirra64   4.78        1                   4.780\n",
       "8     Alarap40   4.71        1                   4.710"
      ]
     },
     "execution_count": 105,
     "metadata": {},
     "output_type": "execute_result"
    }
   ],
   "source": [
    "player_top_5_spender['Average Purchase Price']=player_top_5_spender['Price']/player_top_5_spender['Item ID']\n",
    "player_top_5_spender.rename(columns={'Price':'Total Purchase Value','Item_ID':'Purchase Count'})\n",
    "print(\"Top 5 Spenders\")\n",
    "player_top_5_spender"
   ]
  },
  {
   "cell_type": "code",
   "execution_count": 106,
   "metadata": {},
   "outputs": [
    {
     "name": "stdout",
     "output_type": "stream",
     "text": [
      "5 Most Popular Items by purchase count\n"
     ]
    },
    {
     "data": {
      "text/html": [
       "<div>\n",
       "<style>\n",
       "    .dataframe thead tr:only-child th {\n",
       "        text-align: right;\n",
       "    }\n",
       "\n",
       "    .dataframe thead th {\n",
       "        text-align: left;\n",
       "    }\n",
       "\n",
       "    .dataframe tbody tr th {\n",
       "        vertical-align: top;\n",
       "    }\n",
       "</style>\n",
       "<table border=\"1\" class=\"dataframe\">\n",
       "  <thead>\n",
       "    <tr style=\"text-align: right;\">\n",
       "      <th></th>\n",
       "      <th>Item ID</th>\n",
       "      <th>Purchase Count</th>\n",
       "      <th>Item Name</th>\n",
       "      <th>Price</th>\n",
       "      <th>Total Purchase Value</th>\n",
       "    </tr>\n",
       "  </thead>\n",
       "  <tbody>\n",
       "    <tr>\n",
       "      <th>0</th>\n",
       "      <td>94</td>\n",
       "      <td>3</td>\n",
       "      <td>Mourning Blade</td>\n",
       "      <td>3.64</td>\n",
       "      <td>10.92</td>\n",
       "    </tr>\n",
       "    <tr>\n",
       "      <th>3</th>\n",
       "      <td>98</td>\n",
       "      <td>2</td>\n",
       "      <td>Deadline, Voice Of Subtlety</td>\n",
       "      <td>1.29</td>\n",
       "      <td>2.58</td>\n",
       "    </tr>\n",
       "    <tr>\n",
       "      <th>5</th>\n",
       "      <td>93</td>\n",
       "      <td>2</td>\n",
       "      <td>Apocalyptic Battlescythe</td>\n",
       "      <td>4.49</td>\n",
       "      <td>8.98</td>\n",
       "    </tr>\n",
       "    <tr>\n",
       "      <th>7</th>\n",
       "      <td>64</td>\n",
       "      <td>2</td>\n",
       "      <td>Fusion Pummel</td>\n",
       "      <td>2.42</td>\n",
       "      <td>4.84</td>\n",
       "    </tr>\n",
       "    <tr>\n",
       "      <th>9</th>\n",
       "      <td>60</td>\n",
       "      <td>2</td>\n",
       "      <td>Wolf</td>\n",
       "      <td>2.70</td>\n",
       "      <td>5.40</td>\n",
       "    </tr>\n",
       "  </tbody>\n",
       "</table>\n",
       "</div>"
      ],
      "text/plain": [
       "   Item ID  Purchase Count                    Item Name  Price  \\\n",
       "0       94               3               Mourning Blade   3.64   \n",
       "3       98               2  Deadline, Voice Of Subtlety   1.29   \n",
       "5       93               2     Apocalyptic Battlescythe   4.49   \n",
       "7       64               2                Fusion Pummel   2.42   \n",
       "9       60               2                         Wolf   2.70   \n",
       "\n",
       "   Total Purchase Value  \n",
       "0                 10.92  \n",
       "3                  2.58  \n",
       "5                  8.98  \n",
       "7                  4.84  \n",
       "9                  5.40  "
      ]
     },
     "execution_count": 106,
     "metadata": {},
     "output_type": "execute_result"
    }
   ],
   "source": [
    "# Most Popular Items\n",
    "\n",
    "by_item_df1=player_df.iloc[:,[2,3,4]]\n",
    "\n",
    "\n",
    "by_item_df= pd.DataFrame(by_item_df1['Item ID'].value_counts())\n",
    "by_item_df = by_item_df.reset_index()\n",
    "by_item_df = by_item_df.rename(columns={'index':'Item ID','Item ID':'Purchase Count'})\n",
    "\n",
    "top_5_by_purchase_count=pd.merge(by_item_df,by_item_df1, on=('Item ID'))\n",
    "top_5_by_purchase_count['Total Purchase Value']=top_5_by_purchase_count['Purchase Count']*top_5_by_purchase_count['Price']\n",
    "by_item_df.rename(columns={'Price':'Item Price'})\n",
    "top_5_by_purchase_summary = top_5_by_purchase_count.drop_duplicates(['Item ID'])\n",
    "\n",
    "print('5 Most Popular Items by purchase count')\n",
    "\n",
    "top_5_by_purchase_summary.head(5)"
   ]
  },
  {
   "cell_type": "code",
   "execution_count": 107,
   "metadata": {},
   "outputs": [
    {
     "name": "stdout",
     "output_type": "stream",
     "text": [
      "5 Most Profitable Items by Total Purchase Value\n"
     ]
    },
    {
     "data": {
      "text/html": [
       "<div>\n",
       "<style>\n",
       "    .dataframe thead tr:only-child th {\n",
       "        text-align: right;\n",
       "    }\n",
       "\n",
       "    .dataframe thead th {\n",
       "        text-align: left;\n",
       "    }\n",
       "\n",
       "    .dataframe tbody tr th {\n",
       "        vertical-align: top;\n",
       "    }\n",
       "</style>\n",
       "<table border=\"1\" class=\"dataframe\">\n",
       "  <thead>\n",
       "    <tr style=\"text-align: right;\">\n",
       "      <th></th>\n",
       "      <th>Item ID</th>\n",
       "      <th>Purchase Count</th>\n",
       "      <th>Item Name</th>\n",
       "      <th>Price</th>\n",
       "      <th>Total Purchase Value</th>\n",
       "    </tr>\n",
       "  </thead>\n",
       "  <tbody>\n",
       "    <tr>\n",
       "      <th>0</th>\n",
       "      <td>94</td>\n",
       "      <td>3</td>\n",
       "      <td>Mourning Blade</td>\n",
       "      <td>3.64</td>\n",
       "      <td>10.92</td>\n",
       "    </tr>\n",
       "    <tr>\n",
       "      <th>11</th>\n",
       "      <td>117</td>\n",
       "      <td>2</td>\n",
       "      <td>Heartstriker, Legacy of the Light</td>\n",
       "      <td>4.71</td>\n",
       "      <td>9.42</td>\n",
       "    </tr>\n",
       "    <tr>\n",
       "      <th>5</th>\n",
       "      <td>93</td>\n",
       "      <td>2</td>\n",
       "      <td>Apocalyptic Battlescythe</td>\n",
       "      <td>4.49</td>\n",
       "      <td>8.98</td>\n",
       "    </tr>\n",
       "    <tr>\n",
       "      <th>23</th>\n",
       "      <td>90</td>\n",
       "      <td>2</td>\n",
       "      <td>Betrayer</td>\n",
       "      <td>4.12</td>\n",
       "      <td>8.24</td>\n",
       "    </tr>\n",
       "    <tr>\n",
       "      <th>17</th>\n",
       "      <td>154</td>\n",
       "      <td>2</td>\n",
       "      <td>Feral Katana</td>\n",
       "      <td>4.11</td>\n",
       "      <td>8.22</td>\n",
       "    </tr>\n",
       "  </tbody>\n",
       "</table>\n",
       "</div>"
      ],
      "text/plain": [
       "    Item ID  Purchase Count                          Item Name  Price  \\\n",
       "0        94               3                     Mourning Blade   3.64   \n",
       "11      117               2  Heartstriker, Legacy of the Light   4.71   \n",
       "5        93               2           Apocalyptic Battlescythe   4.49   \n",
       "23       90               2                           Betrayer   4.12   \n",
       "17      154               2                       Feral Katana   4.11   \n",
       "\n",
       "    Total Purchase Value  \n",
       "0                  10.92  \n",
       "11                  9.42  \n",
       "5                   8.98  \n",
       "23                  8.24  \n",
       "17                  8.22  "
      ]
     },
     "execution_count": 107,
     "metadata": {},
     "output_type": "execute_result"
    }
   ],
   "source": [
    "# Most Profitable Items\n",
    "\n",
    "print(\"5 Most Profitable Items by Total Purchase Value\")\n",
    "most_profitable_item = top_5_by_purchase_summary.sort_values(['Total Purchase Value'], ascending=False).head(5)\n",
    "most_profitable_item['Purchase Count'] =most_profitable_item['Purchase Count'].astype(int)\n",
    "most_profitable_item.rename(columns={'Price':'Item Price'})\n",
    "\n",
    "most_profitable_item"
   ]
  },
  {
   "cell_type": "code",
   "execution_count": null,
   "metadata": {
    "collapsed": true
   },
   "outputs": [],
   "source": []
  }
 ],
 "metadata": {
  "kernelspec": {
   "display_name": "Python 3",
   "language": "python",
   "name": "python3"
  },
  "language_info": {
   "codemirror_mode": {
    "name": "ipython",
    "version": 3
   },
   "file_extension": ".py",
   "mimetype": "text/x-python",
   "name": "python",
   "nbconvert_exporter": "python",
   "pygments_lexer": "ipython3",
   "version": "3.6.3"
  }
 },
 "nbformat": 4,
 "nbformat_minor": 2
}
